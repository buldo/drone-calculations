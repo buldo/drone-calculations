{
 "cells": [
  {
   "cell_type": "markdown",
   "metadata": {
    "dotnet_interactive": {
     "language": "csharp"
    },
    "polyglot_notebook": {
     "kernelName": "csharp"
    }
   },
   "source": [
    "Возьмём размеры пропеллеров в дюймах"
   ]
  },
  {
   "cell_type": "code",
   "execution_count": 1,
   "metadata": {
    "dotnet_interactive": {
     "language": "csharp"
    },
    "polyglot_notebook": {
     "kernelName": "csharp"
    },
    "vscode": {
     "languageId": "polyglot-notebook"
    }
   },
   "outputs": [],
   "source": [
    "var inchSizes = Enumerable.Range(1,16).Select(s => Convert.ToDouble(s)).ToList();"
   ]
  },
  {
   "cell_type": "markdown",
   "metadata": {
    "dotnet_interactive": {
     "language": "csharp"
    },
    "polyglot_notebook": {
     "kernelName": "csharp"
    }
   },
   "source": [
    "Приведём к метрам"
   ]
  },
  {
   "cell_type": "code",
   "execution_count": 2,
   "metadata": {
    "dotnet_interactive": {
     "language": "csharp"
    },
    "polyglot_notebook": {
     "kernelName": "csharp"
    },
    "vscode": {
     "languageId": "polyglot-notebook"
    }
   },
   "outputs": [],
   "source": [
    "var meterSizes = inchSizes.Select(s => new {Inches = s, Meters = s * 0.0254}).ToList();"
   ]
  },
  {
   "cell_type": "markdown",
   "metadata": {
    "dotnet_interactive": {
     "language": "csharp"
    },
    "polyglot_notebook": {
     "kernelName": "csharp"
    }
   },
   "source": [
    "Пределы скорости:\n",
    "Считаем, что скорость звука 340 м/с, а дозвуковая скорость < 0.8М"
   ]
  },
  {
   "cell_type": "code",
   "execution_count": 3,
   "metadata": {
    "dotnet_interactive": {
     "language": "csharp"
    },
    "polyglot_notebook": {
     "kernelName": "csharp"
    },
    "vscode": {
     "languageId": "polyglot-notebook"
    }
   },
   "outputs": [
    {
     "data": {
      "text/plain": [
       "340 m/s"
      ]
     },
     "metadata": {},
     "output_type": "display_data"
    }
   ],
   "source": [
    "var sonicSpeed = (double)340;\n",
    "var underSonicMaxSpeed = sonicSpeed*1;\n",
    "display($\"{underSonicMaxSpeed} m/s\");"
   ]
  },
  {
   "cell_type": "markdown",
   "metadata": {
    "dotnet_interactive": {
     "language": "csharp"
    },
    "polyglot_notebook": {
     "kernelName": "csharp"
    }
   },
   "source": [
    "Возьмём:\n",
    "V = 2*PI*(D/2)*(RPM/60)\n",
    "\n",
    "Тогда:\n",
    "RPM = (V * 2 * 60)/(2 * PI * D) => RPM = (V * 60)/(PI * D)"
   ]
  },
  {
   "cell_type": "code",
   "execution_count": 4,
   "metadata": {
    "dotnet_interactive": {
     "language": "csharp"
    },
    "polyglot_notebook": {
     "kernelName": "csharp"
    },
    "vscode": {
     "languageId": "polyglot-notebook"
    }
   },
   "outputs": [
    {
     "data": {
      "text/html": [
       "<table><thead><tr><th><i>index</i></th><th>Size</th><th>MaxRPM</th></tr></thead><tbody><tr><td>0</td><td><table><thead><tr><th>Inches</th><th>Meters</th></tr></thead><tbody><tr><td><div class=\"dni-plaintext\"><pre>1</pre></div></td><td><div class=\"dni-plaintext\"><pre>0.0254</pre></div></td></tr></tbody></table></td><td><div class=\"dni-plaintext\"><pre>255650.45976965866</pre></div></td></tr><tr><td>1</td><td><table><thead><tr><th>Inches</th><th>Meters</th></tr></thead><tbody><tr><td><div class=\"dni-plaintext\"><pre>2</pre></div></td><td><div class=\"dni-plaintext\"><pre>0.0508</pre></div></td></tr></tbody></table></td><td><div class=\"dni-plaintext\"><pre>127825.22988482933</pre></div></td></tr><tr><td>2</td><td><table><thead><tr><th>Inches</th><th>Meters</th></tr></thead><tbody><tr><td><div class=\"dni-plaintext\"><pre>3</pre></div></td><td><div class=\"dni-plaintext\"><pre>0.07619999999999999</pre></div></td></tr></tbody></table></td><td><div class=\"dni-plaintext\"><pre>85216.81992321956</pre></div></td></tr><tr><td>3</td><td><table><thead><tr><th>Inches</th><th>Meters</th></tr></thead><tbody><tr><td><div class=\"dni-plaintext\"><pre>4</pre></div></td><td><div class=\"dni-plaintext\"><pre>0.1016</pre></div></td></tr></tbody></table></td><td><div class=\"dni-plaintext\"><pre>63912.614942414664</pre></div></td></tr><tr><td>4</td><td><table><thead><tr><th>Inches</th><th>Meters</th></tr></thead><tbody><tr><td><div class=\"dni-plaintext\"><pre>5</pre></div></td><td><div class=\"dni-plaintext\"><pre>0.127</pre></div></td></tr></tbody></table></td><td><div class=\"dni-plaintext\"><pre>51130.09195393173</pre></div></td></tr><tr><td>5</td><td><table><thead><tr><th>Inches</th><th>Meters</th></tr></thead><tbody><tr><td><div class=\"dni-plaintext\"><pre>6</pre></div></td><td><div class=\"dni-plaintext\"><pre>0.15239999999999998</pre></div></td></tr></tbody></table></td><td><div class=\"dni-plaintext\"><pre>42608.40996160978</pre></div></td></tr><tr><td>6</td><td><table><thead><tr><th>Inches</th><th>Meters</th></tr></thead><tbody><tr><td><div class=\"dni-plaintext\"><pre>7</pre></div></td><td><div class=\"dni-plaintext\"><pre>0.17779999999999999</pre></div></td></tr></tbody></table></td><td><div class=\"dni-plaintext\"><pre>36521.494252808385</pre></div></td></tr><tr><td>7</td><td><table><thead><tr><th>Inches</th><th>Meters</th></tr></thead><tbody><tr><td><div class=\"dni-plaintext\"><pre>8</pre></div></td><td><div class=\"dni-plaintext\"><pre>0.2032</pre></div></td></tr></tbody></table></td><td><div class=\"dni-plaintext\"><pre>31956.307471207332</pre></div></td></tr><tr><td>8</td><td><table><thead><tr><th>Inches</th><th>Meters</th></tr></thead><tbody><tr><td><div class=\"dni-plaintext\"><pre>9</pre></div></td><td><div class=\"dni-plaintext\"><pre>0.2286</pre></div></td></tr></tbody></table></td><td><div class=\"dni-plaintext\"><pre>28405.606641073187</pre></div></td></tr><tr><td>9</td><td><table><thead><tr><th>Inches</th><th>Meters</th></tr></thead><tbody><tr><td><div class=\"dni-plaintext\"><pre>10</pre></div></td><td><div class=\"dni-plaintext\"><pre>0.254</pre></div></td></tr></tbody></table></td><td><div class=\"dni-plaintext\"><pre>25565.045976965866</pre></div></td></tr><tr><td>10</td><td><table><thead><tr><th>Inches</th><th>Meters</th></tr></thead><tbody><tr><td><div class=\"dni-plaintext\"><pre>11</pre></div></td><td><div class=\"dni-plaintext\"><pre>0.2794</pre></div></td></tr></tbody></table></td><td><div class=\"dni-plaintext\"><pre>23240.95088815079</pre></div></td></tr><tr><td>11</td><td><table><thead><tr><th>Inches</th><th>Meters</th></tr></thead><tbody><tr><td><div class=\"dni-plaintext\"><pre>12</pre></div></td><td><div class=\"dni-plaintext\"><pre>0.30479999999999996</pre></div></td></tr></tbody></table></td><td><div class=\"dni-plaintext\"><pre>21304.20498080489</pre></div></td></tr><tr><td>12</td><td><table><thead><tr><th>Inches</th><th>Meters</th></tr></thead><tbody><tr><td><div class=\"dni-plaintext\"><pre>13</pre></div></td><td><div class=\"dni-plaintext\"><pre>0.3302</pre></div></td></tr></tbody></table></td><td><div class=\"dni-plaintext\"><pre>19665.419982281433</pre></div></td></tr><tr><td>13</td><td><table><thead><tr><th>Inches</th><th>Meters</th></tr></thead><tbody><tr><td><div class=\"dni-plaintext\"><pre>14</pre></div></td><td><div class=\"dni-plaintext\"><pre>0.35559999999999997</pre></div></td></tr></tbody></table></td><td><div class=\"dni-plaintext\"><pre>18260.747126404192</pre></div></td></tr><tr><td>14</td><td><table><thead><tr><th>Inches</th><th>Meters</th></tr></thead><tbody><tr><td><div class=\"dni-plaintext\"><pre>15</pre></div></td><td><div class=\"dni-plaintext\"><pre>0.381</pre></div></td></tr></tbody></table></td><td><div class=\"dni-plaintext\"><pre>17043.36398464391</pre></div></td></tr><tr><td>15</td><td><table><thead><tr><th>Inches</th><th>Meters</th></tr></thead><tbody><tr><td><div class=\"dni-plaintext\"><pre>16</pre></div></td><td><div class=\"dni-plaintext\"><pre>0.4064</pre></div></td></tr></tbody></table></td><td><div class=\"dni-plaintext\"><pre>15978.153735603666</pre></div></td></tr></tbody></table><style>\r\n",
       ".dni-code-hint {\r\n",
       "    font-style: italic;\r\n",
       "    overflow: hidden;\r\n",
       "    white-space: nowrap;\r\n",
       "}\r\n",
       ".dni-treeview {\r\n",
       "    white-space: nowrap;\r\n",
       "}\r\n",
       ".dni-treeview td {\r\n",
       "    vertical-align: top;\r\n",
       "    text-align: start;\r\n",
       "}\r\n",
       "details.dni-treeview {\r\n",
       "    padding-left: 1em;\r\n",
       "}\r\n",
       "table td {\r\n",
       "    text-align: start;\r\n",
       "}\r\n",
       "table tr { \r\n",
       "    vertical-align: top; \r\n",
       "    margin: 0em 0px;\r\n",
       "}\r\n",
       "table tr td pre \r\n",
       "{ \r\n",
       "    vertical-align: top !important; \r\n",
       "    margin: 0em 0px !important;\r\n",
       "} \r\n",
       "table th {\r\n",
       "    text-align: start;\r\n",
       "}\r\n",
       "</style>"
      ]
     },
     "metadata": {},
     "output_type": "display_data"
    }
   ],
   "source": [
    "var maxOrbSpeeds = meterSizes.Select(s => new { Size = s, MaxRPM = (underSonicMaxSpeed*60)/(Math.PI * s.Meters)}).ToList();\n",
    "maxOrbSpeeds"
   ]
  },
  {
   "cell_type": "markdown",
   "metadata": {
    "dotnet_interactive": {
     "language": "csharp"
    },
    "polyglot_notebook": {
     "kernelName": "csharp"
    }
   },
   "source": [
    "Теперь замутим список стандартных напряжений"
   ]
  },
  {
   "cell_type": "code",
   "execution_count": 5,
   "metadata": {
    "dotnet_interactive": {
     "language": "csharp"
    },
    "polyglot_notebook": {
     "kernelName": "csharp"
    },
    "vscode": {
     "languageId": "polyglot-notebook"
    }
   },
   "outputs": [
    {
     "data": {
      "text/html": [
       "<table><thead><tr><th><i>index</i></th><th>S</th><th>MaxVoltage</th></tr></thead><tbody><tr><td>0</td><td><div class=\"dni-plaintext\"><pre>1</pre></div></td><td><div class=\"dni-plaintext\"><pre>4.2</pre></div></td></tr><tr><td>1</td><td><div class=\"dni-plaintext\"><pre>2</pre></div></td><td><div class=\"dni-plaintext\"><pre>8.4</pre></div></td></tr><tr><td>2</td><td><div class=\"dni-plaintext\"><pre>3</pre></div></td><td><div class=\"dni-plaintext\"><pre>12.600000000000001</pre></div></td></tr><tr><td>3</td><td><div class=\"dni-plaintext\"><pre>4</pre></div></td><td><div class=\"dni-plaintext\"><pre>16.8</pre></div></td></tr><tr><td>4</td><td><div class=\"dni-plaintext\"><pre>5</pre></div></td><td><div class=\"dni-plaintext\"><pre>21</pre></div></td></tr><tr><td>5</td><td><div class=\"dni-plaintext\"><pre>6</pre></div></td><td><div class=\"dni-plaintext\"><pre>25.200000000000003</pre></div></td></tr></tbody></table><style>\r\n",
       ".dni-code-hint {\r\n",
       "    font-style: italic;\r\n",
       "    overflow: hidden;\r\n",
       "    white-space: nowrap;\r\n",
       "}\r\n",
       ".dni-treeview {\r\n",
       "    white-space: nowrap;\r\n",
       "}\r\n",
       ".dni-treeview td {\r\n",
       "    vertical-align: top;\r\n",
       "    text-align: start;\r\n",
       "}\r\n",
       "details.dni-treeview {\r\n",
       "    padding-left: 1em;\r\n",
       "}\r\n",
       "table td {\r\n",
       "    text-align: start;\r\n",
       "}\r\n",
       "table tr { \r\n",
       "    vertical-align: top; \r\n",
       "    margin: 0em 0px;\r\n",
       "}\r\n",
       "table tr td pre \r\n",
       "{ \r\n",
       "    vertical-align: top !important; \r\n",
       "    margin: 0em 0px !important;\r\n",
       "} \r\n",
       "table th {\r\n",
       "    text-align: start;\r\n",
       "}\r\n",
       "</style>"
      ]
     },
     "metadata": {},
     "output_type": "display_data"
    }
   ],
   "source": [
    "var maxCellVoltage = 4.2;\n",
    "var sRates = Enumerable.Range(1,6).ToList();\n",
    "var voltagesTable = sRates.Select(r => new{S = r, MaxVoltage = maxCellVoltage * r}).ToList();\n",
    "voltagesTable"
   ]
  },
  {
   "cell_type": "code",
   "execution_count": 6,
   "metadata": {
    "dotnet_interactive": {
     "language": "csharp"
    },
    "polyglot_notebook": {
     "kernelName": "csharp"
    },
    "vscode": {
     "languageId": "polyglot-notebook"
    }
   },
   "outputs": [
    {
     "data": {
      "text/html": [
       "<table><thead><tr><th><i>index</i></th><th>PropSizeInch</th><th>MaxKVRates</th></tr></thead><tbody><tr><td>0</td><td><div class=\"dni-plaintext\"><pre>1</pre></div></td><td><div class=\"dni-plaintext\"><pre>List&lt;&lt;&gt;f__AnonymousType1#6&lt;Int32,Int32&gt;&gt;\r\n",
       "          - S: 1\r\n",
       "            kV: 60869\r\n",
       "          - S: 2\r\n",
       "            kV: 30434\r\n",
       "          - S: 3\r\n",
       "            kV: 20289\r\n",
       "          - S: 4\r\n",
       "            kV: 15217\r\n",
       "          - S: 5\r\n",
       "            kV: 12173\r\n",
       "          - S: 6\r\n",
       "            kV: 10144</pre></div></td></tr><tr><td>1</td><td><div class=\"dni-plaintext\"><pre>2</pre></div></td><td><div class=\"dni-plaintext\"><pre>List&lt;&lt;&gt;f__AnonymousType1#6&lt;Int32,Int32&gt;&gt;\r\n",
       "          - S: 1\r\n",
       "            kV: 30434\r\n",
       "          - S: 2\r\n",
       "            kV: 15217\r\n",
       "          - S: 3\r\n",
       "            kV: 10144\r\n",
       "          - S: 4\r\n",
       "            kV: 7608\r\n",
       "          - S: 5\r\n",
       "            kV: 6086\r\n",
       "          - S: 6\r\n",
       "            kV: 5072</pre></div></td></tr><tr><td>2</td><td><div class=\"dni-plaintext\"><pre>3</pre></div></td><td><div class=\"dni-plaintext\"><pre>List&lt;&lt;&gt;f__AnonymousType1#6&lt;Int32,Int32&gt;&gt;\r\n",
       "          - S: 1\r\n",
       "            kV: 20289\r\n",
       "          - S: 2\r\n",
       "            kV: 10144\r\n",
       "          - S: 3\r\n",
       "            kV: 6763\r\n",
       "          - S: 4\r\n",
       "            kV: 5072\r\n",
       "          - S: 5\r\n",
       "            kV: 4057\r\n",
       "          - S: 6\r\n",
       "            kV: 3381</pre></div></td></tr><tr><td>3</td><td><div class=\"dni-plaintext\"><pre>4</pre></div></td><td><div class=\"dni-plaintext\"><pre>List&lt;&lt;&gt;f__AnonymousType1#6&lt;Int32,Int32&gt;&gt;\r\n",
       "          - S: 1\r\n",
       "            kV: 15217\r\n",
       "          - S: 2\r\n",
       "            kV: 7608\r\n",
       "          - S: 3\r\n",
       "            kV: 5072\r\n",
       "          - S: 4\r\n",
       "            kV: 3804\r\n",
       "          - S: 5\r\n",
       "            kV: 3043\r\n",
       "          - S: 6\r\n",
       "            kV: 2536</pre></div></td></tr><tr><td>4</td><td><div class=\"dni-plaintext\"><pre>5</pre></div></td><td><div class=\"dni-plaintext\"><pre>List&lt;&lt;&gt;f__AnonymousType1#6&lt;Int32,Int32&gt;&gt;\r\n",
       "          - S: 1\r\n",
       "            kV: 12173\r\n",
       "          - S: 2\r\n",
       "            kV: 6086\r\n",
       "          - S: 3\r\n",
       "            kV: 4057\r\n",
       "          - S: 4\r\n",
       "            kV: 3043\r\n",
       "          - S: 5\r\n",
       "            kV: 2434\r\n",
       "          - S: 6\r\n",
       "            kV: 2028</pre></div></td></tr><tr><td>5</td><td><div class=\"dni-plaintext\"><pre>6</pre></div></td><td><div class=\"dni-plaintext\"><pre>List&lt;&lt;&gt;f__AnonymousType1#6&lt;Int32,Int32&gt;&gt;\r\n",
       "          - S: 1\r\n",
       "            kV: 10144\r\n",
       "          - S: 2\r\n",
       "            kV: 5072\r\n",
       "          - S: 3\r\n",
       "            kV: 3381\r\n",
       "          - S: 4\r\n",
       "            kV: 2536\r\n",
       "          - S: 5\r\n",
       "            kV: 2028\r\n",
       "          - S: 6\r\n",
       "            kV: 1690</pre></div></td></tr><tr><td>6</td><td><div class=\"dni-plaintext\"><pre>7</pre></div></td><td><div class=\"dni-plaintext\"><pre>List&lt;&lt;&gt;f__AnonymousType1#6&lt;Int32,Int32&gt;&gt;\r\n",
       "          - S: 1\r\n",
       "            kV: 8695\r\n",
       "          - S: 2\r\n",
       "            kV: 4347\r\n",
       "          - S: 3\r\n",
       "            kV: 2898\r\n",
       "          - S: 4\r\n",
       "            kV: 2173\r\n",
       "          - S: 5\r\n",
       "            kV: 1739\r\n",
       "          - S: 6\r\n",
       "            kV: 1449</pre></div></td></tr><tr><td>7</td><td><div class=\"dni-plaintext\"><pre>8</pre></div></td><td><div class=\"dni-plaintext\"><pre>List&lt;&lt;&gt;f__AnonymousType1#6&lt;Int32,Int32&gt;&gt;\r\n",
       "          - S: 1\r\n",
       "            kV: 7608\r\n",
       "          - S: 2\r\n",
       "            kV: 3804\r\n",
       "          - S: 3\r\n",
       "            kV: 2536\r\n",
       "          - S: 4\r\n",
       "            kV: 1902\r\n",
       "          - S: 5\r\n",
       "            kV: 1521\r\n",
       "          - S: 6\r\n",
       "            kV: 1268</pre></div></td></tr><tr><td>8</td><td><div class=\"dni-plaintext\"><pre>9</pre></div></td><td><div class=\"dni-plaintext\"><pre>List&lt;&lt;&gt;f__AnonymousType1#6&lt;Int32,Int32&gt;&gt;\r\n",
       "          - S: 1\r\n",
       "            kV: 6763\r\n",
       "          - S: 2\r\n",
       "            kV: 3381\r\n",
       "          - S: 3\r\n",
       "            kV: 2254\r\n",
       "          - S: 4\r\n",
       "            kV: 1690\r\n",
       "          - S: 5\r\n",
       "            kV: 1352\r\n",
       "          - S: 6\r\n",
       "            kV: 1127</pre></div></td></tr><tr><td>9</td><td><div class=\"dni-plaintext\"><pre>10</pre></div></td><td><div class=\"dni-plaintext\"><pre>List&lt;&lt;&gt;f__AnonymousType1#6&lt;Int32,Int32&gt;&gt;\r\n",
       "          - S: 1\r\n",
       "            kV: 6086\r\n",
       "          - S: 2\r\n",
       "            kV: 3043\r\n",
       "          - S: 3\r\n",
       "            kV: 2028\r\n",
       "          - S: 4\r\n",
       "            kV: 1521\r\n",
       "          - S: 5\r\n",
       "            kV: 1217\r\n",
       "          - S: 6\r\n",
       "            kV: 1014</pre></div></td></tr><tr><td>10</td><td><div class=\"dni-plaintext\"><pre>11</pre></div></td><td><div class=\"dni-plaintext\"><pre>List&lt;&lt;&gt;f__AnonymousType1#6&lt;Int32,Int32&gt;&gt;\r\n",
       "          - S: 1\r\n",
       "            kV: 5533\r\n",
       "          - S: 2\r\n",
       "            kV: 2766\r\n",
       "          - S: 3\r\n",
       "            kV: 1844\r\n",
       "          - S: 4\r\n",
       "            kV: 1383\r\n",
       "          - S: 5\r\n",
       "            kV: 1106\r\n",
       "          - S: 6\r\n",
       "            kV: 922</pre></div></td></tr><tr><td>11</td><td><div class=\"dni-plaintext\"><pre>12</pre></div></td><td><div class=\"dni-plaintext\"><pre>List&lt;&lt;&gt;f__AnonymousType1#6&lt;Int32,Int32&gt;&gt;\r\n",
       "          - S: 1\r\n",
       "            kV: 5072\r\n",
       "          - S: 2\r\n",
       "            kV: 2536\r\n",
       "          - S: 3\r\n",
       "            kV: 1690\r\n",
       "          - S: 4\r\n",
       "            kV: 1268\r\n",
       "          - S: 5\r\n",
       "            kV: 1014\r\n",
       "          - S: 6\r\n",
       "            kV: 845</pre></div></td></tr><tr><td>12</td><td><div class=\"dni-plaintext\"><pre>13</pre></div></td><td><div class=\"dni-plaintext\"><pre>List&lt;&lt;&gt;f__AnonymousType1#6&lt;Int32,Int32&gt;&gt;\r\n",
       "          - S: 1\r\n",
       "            kV: 4682\r\n",
       "          - S: 2\r\n",
       "            kV: 2341\r\n",
       "          - S: 3\r\n",
       "            kV: 1560\r\n",
       "          - S: 4\r\n",
       "            kV: 1170\r\n",
       "          - S: 5\r\n",
       "            kV: 936\r\n",
       "          - S: 6\r\n",
       "            kV: 780</pre></div></td></tr><tr><td>13</td><td><div class=\"dni-plaintext\"><pre>14</pre></div></td><td><div class=\"dni-plaintext\"><pre>List&lt;&lt;&gt;f__AnonymousType1#6&lt;Int32,Int32&gt;&gt;\r\n",
       "          - S: 1\r\n",
       "            kV: 4347\r\n",
       "          - S: 2\r\n",
       "            kV: 2173\r\n",
       "          - S: 3\r\n",
       "            kV: 1449\r\n",
       "          - S: 4\r\n",
       "            kV: 1086\r\n",
       "          - S: 5\r\n",
       "            kV: 869\r\n",
       "          - S: 6\r\n",
       "            kV: 724</pre></div></td></tr><tr><td>14</td><td><div class=\"dni-plaintext\"><pre>15</pre></div></td><td><div class=\"dni-plaintext\"><pre>List&lt;&lt;&gt;f__AnonymousType1#6&lt;Int32,Int32&gt;&gt;\r\n",
       "          - S: 1\r\n",
       "            kV: 4057\r\n",
       "          - S: 2\r\n",
       "            kV: 2028\r\n",
       "          - S: 3\r\n",
       "            kV: 1352\r\n",
       "          - S: 4\r\n",
       "            kV: 1014\r\n",
       "          - S: 5\r\n",
       "            kV: 811\r\n",
       "          - S: 6\r\n",
       "            kV: 676</pre></div></td></tr><tr><td>15</td><td><div class=\"dni-plaintext\"><pre>16</pre></div></td><td><div class=\"dni-plaintext\"><pre>List&lt;&lt;&gt;f__AnonymousType1#6&lt;Int32,Int32&gt;&gt;\r\n",
       "          - S: 1\r\n",
       "            kV: 3804\r\n",
       "          - S: 2\r\n",
       "            kV: 1902\r\n",
       "          - S: 3\r\n",
       "            kV: 1268\r\n",
       "          - S: 4\r\n",
       "            kV: 951\r\n",
       "          - S: 5\r\n",
       "            kV: 760\r\n",
       "          - S: 6\r\n",
       "            kV: 634</pre></div></td></tr></tbody></table><style>\r\n",
       ".dni-code-hint {\r\n",
       "    font-style: italic;\r\n",
       "    overflow: hidden;\r\n",
       "    white-space: nowrap;\r\n",
       "}\r\n",
       ".dni-treeview {\r\n",
       "    white-space: nowrap;\r\n",
       "}\r\n",
       ".dni-treeview td {\r\n",
       "    vertical-align: top;\r\n",
       "    text-align: start;\r\n",
       "}\r\n",
       "details.dni-treeview {\r\n",
       "    padding-left: 1em;\r\n",
       "}\r\n",
       "table td {\r\n",
       "    text-align: start;\r\n",
       "}\r\n",
       "table tr { \r\n",
       "    vertical-align: top; \r\n",
       "    margin: 0em 0px;\r\n",
       "}\r\n",
       "table tr td pre \r\n",
       "{ \r\n",
       "    vertical-align: top !important; \r\n",
       "    margin: 0em 0px !important;\r\n",
       "} \r\n",
       "table th {\r\n",
       "    text-align: start;\r\n",
       "}\r\n",
       "</style>"
      ]
     },
     "metadata": {},
     "output_type": "display_data"
    }
   ],
   "source": [
    "var propsMaxKvForRates = maxOrbSpeeds.Select(mos => new {\n",
    "    PropSizeInch = mos.Size.Inches,\n",
    "    MaxKVRates = voltagesTable.Select(u => new{\n",
    "        S = u.S,\n",
    "        kV = (int)(mos.MaxRPM / u.MaxVoltage)\n",
    "    }).ToList()\n",
    "} ).ToList();\n",
    "propsMaxKvForRates\n"
   ]
  }
 ],
 "metadata": {
  "kernelspec": {
   "display_name": ".NET (C#)",
   "language": "C#",
   "name": ".net-csharp"
  },
  "polyglot_notebook": {
   "kernelInfo": {
    "defaultKernelName": "csharp",
    "items": [
     {
      "aliases": [
       "c#",
       "C#"
      ],
      "languageName": "C#",
      "name": "csharp"
     },
     {
      "aliases": [
       "frontend"
      ],
      "name": "vscode"
     },
     {
      "aliases": [],
      "name": ".NET"
     },
     {
      "aliases": [
       "f#",
       "F#"
      ],
      "languageName": "F#",
      "name": "fsharp"
     },
     {
      "aliases": [],
      "languageName": "HTML",
      "name": "html"
     },
     {
      "aliases": [
       "js"
      ],
      "languageName": "JavaScript",
      "name": "javascript"
     },
     {
      "aliases": [],
      "languageName": "KQL",
      "name": "kql"
     },
     {
      "aliases": [],
      "languageName": "Mermaid",
      "name": "mermaid"
     },
     {
      "aliases": [
       "powershell"
      ],
      "languageName": "PowerShell",
      "name": "pwsh"
     },
     {
      "aliases": [],
      "languageName": "SQL",
      "name": "sql"
     },
     {
      "aliases": [],
      "name": "value"
     },
     {
      "aliases": [],
      "name": "webview"
     }
    ]
   }
  }
 },
 "nbformat": 4,
 "nbformat_minor": 2
}
