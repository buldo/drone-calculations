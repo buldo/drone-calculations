{
 "cells": [
  {
   "cell_type": "markdown",
   "id": "e72accdd",
   "metadata": {},
   "source": [
    "Возьмём размеры пропеллеров в дюймах"
   ]
  },
  {
   "cell_type": "code",
   "execution_count": 59,
   "id": "eb88ca0a-fbd4-4810-9849-8206f4d323c7",
   "metadata": {
    "vscode": {
     "languageId": "csharp"
    }
   },
   "outputs": [],
   "source": [
    "var inchSizes = Enumerable.Range(1,16).Select(s => Convert.ToDouble(s)).ToList();"
   ]
  },
  {
   "cell_type": "markdown",
   "id": "9d4e82c4",
   "metadata": {},
   "source": [
    "Приведём к метрам"
   ]
  },
  {
   "cell_type": "code",
   "execution_count": 60,
   "id": "ebb35a85-1b8c-430c-8fe3-0b0531b521d2",
   "metadata": {
    "vscode": {
     "languageId": "csharp"
    }
   },
   "outputs": [],
   "source": [
    "var meterSizes = inchSizes.Select(s => new {Inches = s, Meters = s * 0.0254}).ToList();"
   ]
  },
  {
   "cell_type": "markdown",
   "id": "7d89f543",
   "metadata": {},
   "source": [
    "Пределы скорости:\n",
    "Считаем, что скорость звука 340 м/с, а дозвуковая скорость < 0.8М"
   ]
  },
  {
   "cell_type": "code",
   "execution_count": 61,
   "id": "74b3af2a",
   "metadata": {
    "vscode": {
     "languageId": "csharp"
    }
   },
   "outputs": [
    {
     "data": {
      "text/plain": [
       "340 m/s"
      ]
     },
     "metadata": {},
     "output_type": "display_data"
    }
   ],
   "source": [
    "var sonicSpeed = (double)340;\n",
    "var underSonicMaxSpeed = sonicSpeed*1;\n",
    "display($\"{underSonicMaxSpeed} m/s\");"
   ]
  },
  {
   "cell_type": "markdown",
   "id": "ea95c900",
   "metadata": {},
   "source": [
    "Возьмём:\n",
    "V = 2*PI*(D/2)*(RPM/60)\n",
    "\n",
    "Тогда:\n",
    "RPM = (V * 2 * 60)/(2 * PI * D) => RPM = (V * 60)/(PI * D)"
   ]
  },
  {
   "cell_type": "code",
   "execution_count": 62,
   "id": "fdf18374",
   "metadata": {
    "vscode": {
     "languageId": "csharp"
    }
   },
   "outputs": [
    {
     "data": {
      "text/html": [
       "<table><thead><tr><th><i>index</i></th><th>Size</th><th>MaxRPM</th></tr></thead><tbody><tr><td>0</td><td>{ Inches: 1, Meters: 0.0254 }</td><td>255650.45976965866</td></tr><tr><td>1</td><td>{ Inches: 2, Meters: 0.0508 }</td><td>127825.22988482933</td></tr><tr><td>2</td><td>{ Inches: 3, Meters: 0.07619999999999999 }</td><td>85216.81992321956</td></tr><tr><td>3</td><td>{ Inches: 4, Meters: 0.1016 }</td><td>63912.614942414664</td></tr><tr><td>4</td><td>{ Inches: 5, Meters: 0.127 }</td><td>51130.09195393173</td></tr><tr><td>5</td><td>{ Inches: 6, Meters: 0.15239999999999998 }</td><td>42608.40996160978</td></tr><tr><td>6</td><td>{ Inches: 7, Meters: 0.17779999999999999 }</td><td>36521.494252808385</td></tr><tr><td>7</td><td>{ Inches: 8, Meters: 0.2032 }</td><td>31956.307471207332</td></tr><tr><td>8</td><td>{ Inches: 9, Meters: 0.2286 }</td><td>28405.606641073187</td></tr><tr><td>9</td><td>{ Inches: 10, Meters: 0.254 }</td><td>25565.045976965866</td></tr><tr><td>10</td><td>{ Inches: 11, Meters: 0.2794 }</td><td>23240.95088815079</td></tr><tr><td>11</td><td>{ Inches: 12, Meters: 0.30479999999999996 }</td><td>21304.20498080489</td></tr><tr><td>12</td><td>{ Inches: 13, Meters: 0.3302 }</td><td>19665.419982281433</td></tr><tr><td>13</td><td>{ Inches: 14, Meters: 0.35559999999999997 }</td><td>18260.747126404192</td></tr><tr><td>14</td><td>{ Inches: 15, Meters: 0.381 }</td><td>17043.36398464391</td></tr><tr><td>15</td><td>{ Inches: 16, Meters: 0.4064 }</td><td>15978.153735603666</td></tr></tbody></table>"
      ]
     },
     "execution_count": 62,
     "metadata": {},
     "output_type": "execute_result"
    }
   ],
   "source": [
    "var maxOrbSpeeds = meterSizes.Select(s => new { Size = s, MaxRPM = (underSonicMaxSpeed*60)/(Math.PI * s.Meters)}).ToList();\n",
    "maxOrbSpeeds"
   ]
  },
  {
   "cell_type": "markdown",
   "id": "997237a9",
   "metadata": {},
   "source": [
    "Теперь замутим список стандартных напряжений"
   ]
  },
  {
   "cell_type": "code",
   "execution_count": 63,
   "id": "6ca3dbef",
   "metadata": {
    "vscode": {
     "languageId": "csharp"
    }
   },
   "outputs": [
    {
     "data": {
      "text/html": [
       "<table><thead><tr><th><i>index</i></th><th>S</th><th>MaxVoltage</th></tr></thead><tbody><tr><td>0</td><td>1</td><td>4.2</td></tr><tr><td>1</td><td>2</td><td>8.4</td></tr><tr><td>2</td><td>3</td><td>12.600000000000001</td></tr><tr><td>3</td><td>4</td><td>16.8</td></tr><tr><td>4</td><td>5</td><td>21</td></tr><tr><td>5</td><td>6</td><td>25.200000000000003</td></tr></tbody></table>"
      ]
     },
     "execution_count": 63,
     "metadata": {},
     "output_type": "execute_result"
    }
   ],
   "source": [
    "var maxCellVoltage = 4.2;\n",
    "var sRates = Enumerable.Range(1,6).ToList();\n",
    "var voltagesTable = sRates.Select(r => new{S = r, MaxVoltage = maxCellVoltage * r}).ToList();\n",
    "voltagesTable"
   ]
  },
  {
   "cell_type": "code",
   "execution_count": 64,
   "id": "701542d8",
   "metadata": {
    "vscode": {
     "languageId": "csharp"
    }
   },
   "outputs": [
    {
     "data": {
      "text/html": [
       "<table><thead><tr><th><i>index</i></th><th>PropSizeInch</th><th>MaxKVRates</th></tr></thead><tbody><tr><td>0</td><td>1</td><td>{ S: 1, kV: 60869 }{ S: 2, kV: 30434 }{ S: 3, kV: 20289 }{ S: 4, kV: 15217 }{ S: 5, kV: 12173 }{ S: 6, kV: 10144 }</td></tr><tr><td>1</td><td>2</td><td>{ S: 1, kV: 30434 }{ S: 2, kV: 15217 }{ S: 3, kV: 10144 }{ S: 4, kV: 7608 }{ S: 5, kV: 6086 }{ S: 6, kV: 5072 }</td></tr><tr><td>2</td><td>3</td><td>{ S: 1, kV: 20289 }{ S: 2, kV: 10144 }{ S: 3, kV: 6763 }{ S: 4, kV: 5072 }{ S: 5, kV: 4057 }{ S: 6, kV: 3381 }</td></tr><tr><td>3</td><td>4</td><td>{ S: 1, kV: 15217 }{ S: 2, kV: 7608 }{ S: 3, kV: 5072 }{ S: 4, kV: 3804 }{ S: 5, kV: 3043 }{ S: 6, kV: 2536 }</td></tr><tr><td>4</td><td>5</td><td>{ S: 1, kV: 12173 }{ S: 2, kV: 6086 }{ S: 3, kV: 4057 }{ S: 4, kV: 3043 }{ S: 5, kV: 2434 }{ S: 6, kV: 2028 }</td></tr><tr><td>5</td><td>6</td><td>{ S: 1, kV: 10144 }{ S: 2, kV: 5072 }{ S: 3, kV: 3381 }{ S: 4, kV: 2536 }{ S: 5, kV: 2028 }{ S: 6, kV: 1690 }</td></tr><tr><td>6</td><td>7</td><td>{ S: 1, kV: 8695 }{ S: 2, kV: 4347 }{ S: 3, kV: 2898 }{ S: 4, kV: 2173 }{ S: 5, kV: 1739 }{ S: 6, kV: 1449 }</td></tr><tr><td>7</td><td>8</td><td>{ S: 1, kV: 7608 }{ S: 2, kV: 3804 }{ S: 3, kV: 2536 }{ S: 4, kV: 1902 }{ S: 5, kV: 1521 }{ S: 6, kV: 1268 }</td></tr><tr><td>8</td><td>9</td><td>{ S: 1, kV: 6763 }{ S: 2, kV: 3381 }{ S: 3, kV: 2254 }{ S: 4, kV: 1690 }{ S: 5, kV: 1352 }{ S: 6, kV: 1127 }</td></tr><tr><td>9</td><td>10</td><td>{ S: 1, kV: 6086 }{ S: 2, kV: 3043 }{ S: 3, kV: 2028 }{ S: 4, kV: 1521 }{ S: 5, kV: 1217 }{ S: 6, kV: 1014 }</td></tr><tr><td>10</td><td>11</td><td>{ S: 1, kV: 5533 }{ S: 2, kV: 2766 }{ S: 3, kV: 1844 }{ S: 4, kV: 1383 }{ S: 5, kV: 1106 }{ S: 6, kV: 922 }</td></tr><tr><td>11</td><td>12</td><td>{ S: 1, kV: 5072 }{ S: 2, kV: 2536 }{ S: 3, kV: 1690 }{ S: 4, kV: 1268 }{ S: 5, kV: 1014 }{ S: 6, kV: 845 }</td></tr><tr><td>12</td><td>13</td><td>{ S: 1, kV: 4682 }{ S: 2, kV: 2341 }{ S: 3, kV: 1560 }{ S: 4, kV: 1170 }{ S: 5, kV: 936 }{ S: 6, kV: 780 }</td></tr><tr><td>13</td><td>14</td><td>{ S: 1, kV: 4347 }{ S: 2, kV: 2173 }{ S: 3, kV: 1449 }{ S: 4, kV: 1086 }{ S: 5, kV: 869 }{ S: 6, kV: 724 }</td></tr><tr><td>14</td><td>15</td><td>{ S: 1, kV: 4057 }{ S: 2, kV: 2028 }{ S: 3, kV: 1352 }{ S: 4, kV: 1014 }{ S: 5, kV: 811 }{ S: 6, kV: 676 }</td></tr><tr><td>15</td><td>16</td><td>{ S: 1, kV: 3804 }{ S: 2, kV: 1902 }{ S: 3, kV: 1268 }{ S: 4, kV: 951 }{ S: 5, kV: 760 }{ S: 6, kV: 634 }</td></tr></tbody></table>"
      ]
     },
     "execution_count": 64,
     "metadata": {},
     "output_type": "execute_result"
    }
   ],
   "source": [
    "var propsMaxKvForRates = maxOrbSpeeds.Select(mos => new {\n",
    "    PropSizeInch = mos.Size.Inches,\n",
    "    MaxKVRates = voltagesTable.Select(u => new{\n",
    "        S = u.S,\n",
    "        kV = (int)(mos.MaxRPM / u.MaxVoltage)\n",
    "    }).ToList()\n",
    "} ).ToList();\n",
    "propsMaxKvForRates\n"
   ]
  }
 ],
 "metadata": {
  "kernelspec": {
   "display_name": ".NET (C#)",
   "language": "C#",
   "name": ".net-csharp"
  },
  "language_info": {
   "file_extension": ".cs",
   "mimetype": "text/x-csharp",
   "name": "C#",
   "pygments_lexer": "csharp",
   "version": "8.0"
  }
 },
 "nbformat": 4,
 "nbformat_minor": 5
}
